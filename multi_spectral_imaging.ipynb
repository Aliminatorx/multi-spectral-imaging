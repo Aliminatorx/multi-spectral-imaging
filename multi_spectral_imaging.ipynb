{
  "cells": [
    {
      "cell_type": "markdown",
      "metadata": {
        "id": "Wo7QhLeqEj7c"
      },
      "source": [
        "## Importing Libraries"
      ]
    },
    {
      "cell_type": "code",
      "source": [
        "from google.colab import drive\n",
        "drive.mount('/content/drive')"
      ],
      "metadata": {
        "colab": {
          "base_uri": "https://localhost:8080/"
        },
        "id": "zrka5Q4N69TU",
        "outputId": "5fa9aaec-1099-4d9f-99a4-00d90d2dbe33"
      },
      "execution_count": null,
      "outputs": [
        {
          "output_type": "stream",
          "name": "stdout",
          "text": [
            "Mounted at /content/drive\n"
          ]
        }
      ]
    },
    {
      "cell_type": "code",
      "execution_count": null,
      "metadata": {
        "id": "PhWJQL6B8ydP"
      },
      "outputs": [],
      "source": [
        "import matplotlib.pyplot as plt\n",
        "import numpy as np\n",
        "import cv2         # using opencv to read images\n",
        "import os\n",
        "import tifffile    # stacked images format .tiff\n",
        "from PIL import Image\n",
        "import tensorflow as tf\n",
        "from tensorflow.keras.layers import Conv2D\n",
        "from tensorflow.keras import layers\n",
        "from sklearn.model_selection import train_test_split\n",
        "from keras.models import Model\n",
        "from tensorflow.keras.layers import Flatten\n",
        "from keras.models import load_model\n",
        "from tensorflow import keras"
      ]
    },
    {
      "cell_type": "code",
      "execution_count": null,
      "metadata": {
        "id": "Lhf0MZkkENRK"
      },
      "outputs": [],
      "source": [
        "directory = \"./drive/MyDrive/Anndata/\""
      ]
    },
    {
      "cell_type": "code",
      "execution_count": null,
      "metadata": {
        "id": "hKt6VS7LEdln"
      },
      "outputs": [],
      "source": [
        "path = os.listdir(directory)"
      ]
    },
    {
      "cell_type": "markdown",
      "source": [
        "# Data Preprocessing"
      ],
      "metadata": {
        "id": "VLbqxWM3LzBl"
      }
    },
    {
      "cell_type": "markdown",
      "metadata": {
        "id": "Pk-JXy0GPS8L"
      },
      "source": [
        "## Images Directory"
      ]
    },
    {
      "cell_type": "code",
      "source": [
        "img_directory = {}\n",
        "folder = []\n",
        "    #using os.walk\n",
        "for root, dirs, folder in os.walk(directory):         \n",
        "    dir_name = os.path.basename(root)\n",
        "    img_directory[dir_name] = [root + '/' + file for file in folder]\n",
        "\n",
        "key = list(img_directory.keys())[0]\n",
        "img_directory.pop(key)\n",
        "\n",
        "for key, value in img_directory.items():\n",
        "    img_directory[key] = [v for v in value if \"png\" in v] "
      ],
      "metadata": {
        "id": "sX8pT9ueG7Kl"
      },
      "execution_count": null,
      "outputs": []
    },
    {
      "cell_type": "code",
      "source": [
        "img = cv2.imread('./drive/MyDrive/Anndata/balloons_ms/balloons_ms/balloons_ms_01.png')\n",
        "img.shape\n",
        "plt.imshow(img)"
      ],
      "metadata": {
        "colab": {
          "base_uri": "https://localhost:8080/",
          "height": 287
        },
        "id": "0NCfjbWWC14f",
        "outputId": "22b6b3b2-c998-4fd3-9a65-10011fe4063c"
      },
      "execution_count": null,
      "outputs": [
        {
          "output_type": "execute_result",
          "data": {
            "text/plain": [
              "<matplotlib.image.AxesImage at 0x7fd1bd4f2520>"
            ]
          },
          "metadata": {},
          "execution_count": 6
        },
        {
          "output_type": "display_data",
          "data": {
            "text/plain": [
              "<Figure size 432x288 with 1 Axes>"
            ],
            "image/png": "[encoded data removed]"
          },
          "metadata": {
            "needs_background": "light"
          }
        }
      ]
    },
    {
      "cell_type": "markdown",
      "source": [
        "## Stacking Images"
      ],
      "metadata": {
        "id": "tmqeLVloCbys"
      }
    },
    {
      "cell_type": "code",
      "source": [
        "msi = {}\n",
        "#img_name = key() and direct = value()\n",
        "for img_name, direct in img_directory.items():\n",
        "    print(img_name)\n",
        "    images = [cv2.imread(img, 0) for img in direct]\n",
        "    images = np.asarray(images)\n",
        "    stacked_image = np.stack(images, axis=2)\n",
        "    msi[img_name] = stacked_image\n",
        "#print(\"multi_spectral_images = \",msi)"
      ],
      "metadata": {
        "colab": {
          "base_uri": "https://localhost:8080/"
        },
        "id": "diP_NTahIuZq",
        "outputId": "b83abee0-c897-455f-ebe7-c20ac613386c"
      },
      "execution_count": null,
      "outputs": [
        {
          "output_type": "stream",
          "name": "stdout",
          "text": [
            "watercolors_ms\n",
            "real_and_fake_apples_ms\n",
            "superballs_ms\n",
            "real_and_fake_peppers_ms\n",
            "sponges_ms\n",
            "photo_and_face_ms\n",
            "paints_ms\n",
            "stuffed_toys_ms\n",
            "pompoms_ms\n",
            "thread_spools_ms\n",
            "flowers_ms\n",
            "oil_painting_ms\n",
            "fake_and_real_sushi_ms\n",
            "glass_tiles_ms\n",
            "fake_and_real_strawberries_ms\n",
            "jelly_beans_ms\n",
            "hairs_ms\n",
            "feathers_ms\n",
            "fake_and_real_peppers_ms\n",
            "fake_and_real_tomatoes_ms\n",
            "cloth_ms\n",
            "fake_and_real_lemon_slices_ms\n",
            "egyptian_statue_ms\n",
            "fake_and_real_food_ms\n",
            "fake_and_real_beers_ms\n",
            "face_ms\n",
            "chart_and_stuffed_toy_ms\n",
            "fake_and_real_lemons_ms\n",
            "clay_ms\n",
            "cd_ms\n",
            "balloons_ms\n",
            "beads_ms\n"
          ]
        }
      ]
    },
    {
      "cell_type": "markdown",
      "source": [
        "### Shape of Stacked Image"
      ],
      "metadata": {
        "id": "cxbjKhzyCgVl"
      }
    },
    {
      "cell_type": "code",
      "source": [
        "one_stacked_img = msi['balloons_ms'].shape\n",
        "print(\"stacked_image_shape =\",one_stacked_img)"
      ],
      "metadata": {
        "id": "25_EkI2HMMp0",
        "colab": {
          "base_uri": "https://localhost:8080/"
        },
        "outputId": "40cf81d4-23df-4041-adde-afdbd27d9d22"
      },
      "execution_count": null,
      "outputs": [
        {
          "output_type": "stream",
          "name": "stdout",
          "text": [
            "stacked_image_shape = (512, 512, 31)\n"
          ]
        }
      ]
    },
    {
      "cell_type": "markdown",
      "source": [
        "# Patches"
      ],
      "metadata": {
        "id": "ztbuyGHMRg_0"
      }
    },
    {
      "cell_type": "code",
      "source": [
        "def patch_all(multi_spec,filterdim1,filterdim2,stride):\n",
        "\n",
        "  g_patches = []\n",
        "\n",
        "  for key, value in multi_spec.items():\n",
        "      #print(key)\n",
        "      img_shape = multi_spec[key].shape\n",
        "      width, height = img_shape[1], img_shape[0]\n",
        "      \n",
        "      for row in range(height // filterdim1):\n",
        "          for col in range(width // filterdim2):\n",
        "              img_patch = value[row*64:(row+1)*64, col*64:(col+1)*64, 0:stride]\n",
        "              g_patches.append(img_patch)\n",
        "  return g_patches"
      ],
      "metadata": {
        "id": "ROubsALFNdRN"
      },
      "execution_count": null,
      "outputs": []
    },
    {
      "cell_type": "code",
      "source": [
        "patches = patch_all(msi,64,64,31)\n",
        "print(\"length of patches =\",len(patches))"
      ],
      "metadata": {
        "id": "kGajtiD1OD7g",
        "colab": {
          "base_uri": "https://localhost:8080/"
        },
        "outputId": "0b31b6b3-1421-49f6-b09e-e0006e1c5324"
      },
      "execution_count": null,
      "outputs": [
        {
          "output_type": "stream",
          "name": "stdout",
          "text": [
            "length of patches = 2048\n"
          ]
        }
      ]
    },
    {
      "cell_type": "markdown",
      "source": [
        "## Labelling data"
      ],
      "metadata": {
        "id": "2j3GtpWvRvZY"
      }
    },
    {
      "cell_type": "code",
      "source": [
        "y = np.asarray(patches)\n",
        "y = y.astype(float)\n",
        "print(\"Label y =\",y.shape)"
      ],
      "metadata": {
        "id": "lgYKosGkRvCX",
        "colab": {
          "base_uri": "https://localhost:8080/"
        },
        "outputId": "443c45ab-0a14-4e46-bdd1-58ff5e7f9d48"
      },
      "execution_count": null,
      "outputs": [
        {
          "output_type": "stream",
          "name": "stdout",
          "text": [
            "Label y = (2048, 64, 64, 31)\n"
          ]
        }
      ]
    },
    {
      "cell_type": "markdown",
      "source": [
        "## Feature x_a = (8, 8, 31)"
      ],
      "metadata": {
        "id": "9SFpMExeSyw8"
      }
    },
    {
      "cell_type": "code",
      "source": [
        "x_a = tf.keras.layers.AveragePooling2D(pool_size=(8, 8),strides=(8, 8), padding='valid',dtype='float64')\n",
        "x_a = x_a(y)\n",
        "print(\"x_a =\",x_a.shape)"
      ],
      "metadata": {
        "id": "AOXCts1pTJSi",
        "colab": {
          "base_uri": "https://localhost:8080/"
        },
        "outputId": "08aa587e-34d5-4d73-9f67-d7870595d885"
      },
      "execution_count": null,
      "outputs": [
        {
          "output_type": "stream",
          "name": "stdout",
          "text": [
            "x_a = (2048, 8, 8, 31)\n"
          ]
        }
      ]
    },
    {
      "cell_type": "markdown",
      "source": [
        "## Feature x_b = (64, 64, 3)"
      ],
      "metadata": {
        "id": "qRPj8UfzTZJi"
      }
    },
    {
      "cell_type": "code",
      "source": [
        "xb1 = y[:,:,:,0:11].mean(axis = 3)\n",
        "xb2 = y[:,:,:,10:21].mean(axis = 3)\n",
        "xb3 = y[:,:,:,20:].mean(axis = 3)\n",
        "print(\"Shape of xb1 =\",xb1.shape,\"\\nShape of xb2 =\", xb2.shape,\"\\nShape of xb3 =\", xb3.shape)\n",
        "\n",
        "x_b = np.stack([xb1, xb2, xb3], axis=3)                  \n",
        "print('\\nx_b =', x_b.shape)"
      ],
      "metadata": {
        "id": "KmNFk4TcTbs0",
        "colab": {
          "base_uri": "https://localhost:8080/"
        },
        "outputId": "0afafdf5-7260-4242-b947-eb48a48f7616"
      },
      "execution_count": null,
      "outputs": [
        {
          "output_type": "stream",
          "name": "stdout",
          "text": [
            "Shape of xb1 = (2048, 64, 64) \n",
            "Shape of xb2 = (2048, 64, 64) \n",
            "Shape of xb3 = (2048, 64, 64)\n",
            "\n",
            "x_b = (2048, 64, 64, 3)\n"
          ]
        }
      ]
    },
    {
      "cell_type": "code",
      "source": [
        "print(\"Labels y = \", y.shape)\n",
        "print(\"\\nFeature x_a = \",x_a.shape)\n",
        "print(\"Feature x_b = \",x_b.shape)"
      ],
      "metadata": {
        "id": "7dVvIUbJVAqy",
        "colab": {
          "base_uri": "https://localhost:8080/"
        },
        "outputId": "5ba253cd-04be-4360-eaf0-b7f5487d7c75"
      },
      "execution_count": null,
      "outputs": [
        {
          "output_type": "stream",
          "name": "stdout",
          "text": [
            "Labels y =  (2048, 64, 64, 31)\n",
            "\n",
            "Feature x_a =  (2048, 8, 8, 31)\n",
            "Feature x_b =  (2048, 64, 64, 3)\n"
          ]
        }
      ]
    },
    {
      "cell_type": "markdown",
      "source": [
        "## Reshaping Data"
      ],
      "metadata": {
        "id": "ZY9CvhP3VSID"
      }
    },
    {
      "cell_type": "code",
      "source": [
        "X_interpolate = tf.image.resize(x_a, (64, 64), method='bilinear')\n",
        "X_interpolate.shape\n",
        "print(X_interpolate.shape)\n",
        "\n",
        "x = tf.concat([X_interpolate, x_b], axis=-1)\n",
        "print(\"X = \",x.shape)"
      ],
      "metadata": {
        "id": "yIOvw5OsVSID",
        "colab": {
          "base_uri": "https://localhost:8080/"
        },
        "outputId": "217cc9e0-21a9-4724-b9fb-07c9e6a38edc"
      },
      "execution_count": null,
      "outputs": [
        {
          "output_type": "stream",
          "name": "stdout",
          "text": [
            "(2048, 64, 64, 31)\n",
            "X =  (2048, 64, 64, 34)\n"
          ]
        }
      ]
    },
    {
      "cell_type": "markdown",
      "source": [
        "## Data Normalization"
      ],
      "metadata": {
        "id": "RSHe8Z0GVmB6"
      }
    },
    {
      "cell_type": "code",
      "source": [
        "X = x/255                #we normalize data to bring value in range of 0 and 1\n",
        "y = y/255"
      ],
      "metadata": {
        "id": "g4by-6sjVmB7"
      },
      "execution_count": null,
      "outputs": []
    },
    {
      "cell_type": "code",
      "source": [
        "X = np.array(x)\n",
        "y = np.array(y)"
      ],
      "metadata": {
        "id": "VrpjnDZsXTul"
      },
      "execution_count": null,
      "outputs": []
    },
    {
      "cell_type": "code",
      "source": [
        "print(\"X =\",X.shape)\n",
        "print(\"y =\",y.shape)"
      ],
      "metadata": {
        "id": "Jw4KF3mDWCDy",
        "colab": {
          "base_uri": "https://localhost:8080/"
        },
        "outputId": "9f49f635-da85-420c-b905-b2aa070a502a"
      },
      "execution_count": null,
      "outputs": [
        {
          "output_type": "stream",
          "name": "stdout",
          "text": [
            "X = (2048, 64, 64, 34)\n",
            "y = (2048, 64, 64, 31)\n"
          ]
        }
      ]
    },
    {
      "cell_type": "markdown",
      "source": [
        "### using Padding to equalize both X and y sets"
      ],
      "metadata": {
        "id": "HptVl8i3CqKP"
      }
    },
    {
      "cell_type": "code",
      "source": [
        "y = np.pad(y, [(0,0), (0,0), (0,0), (0,3)], mode='constant')\n",
        "y = np.array(y)\n",
        "\n",
        "print(\"y = \", y.shape)\n",
        "print(\"X = \", X.shape)"
      ],
      "metadata": {
        "id": "CT854AaCjrv5",
        "colab": {
          "base_uri": "https://localhost:8080/"
        },
        "outputId": "acc659c7-0e6c-4cc0-e79f-866174ee8062"
      },
      "execution_count": null,
      "outputs": [
        {
          "output_type": "stream",
          "name": "stdout",
          "text": [
            "y =  (2048, 64, 64, 34)\n",
            "X =  (2048, 64, 64, 34)\n"
          ]
        }
      ]
    },
    {
      "cell_type": "markdown",
      "source": [
        "## Train, Test, Split"
      ],
      "metadata": {
        "id": "u9FMS4RIZAIs"
      }
    },
    {
      "cell_type": "code",
      "source": [
        "X_train, X_test, y_train, y_test = train_test_split(X, y, test_size=0.20)"
      ],
      "metadata": {
        "id": "vwHV4-piWCDy"
      },
      "execution_count": null,
      "outputs": []
    },
    {
      "cell_type": "code",
      "source": [
        "print(\"X_train =\",X_train.shape)\n",
        "print(\"X_test =\",X_test.shape)\n",
        "print(\"y_train =\",y_train.shape)\n",
        "print(\"y_test =\",y_test.shape)"
      ],
      "metadata": {
        "id": "384_2lQmWCDy",
        "colab": {
          "base_uri": "https://localhost:8080/"
        },
        "outputId": "91f453d6-f743-4602-a88a-b44cf572ab5d"
      },
      "execution_count": null,
      "outputs": [
        {
          "output_type": "stream",
          "name": "stdout",
          "text": [
            "X_train = (1638, 64, 64, 34)\n",
            "X_test = (410, 64, 64, 34)\n",
            "y_train = (1638, 64, 64, 34)\n",
            "y_test = (410, 64, 64, 34)\n"
          ]
        }
      ]
    },
    {
      "cell_type": "markdown",
      "source": [
        "### y_train = (1638, 64x64x34)"
      ],
      "metadata": {
        "id": "2K6GXRxc0IX8"
      }
    },
    {
      "cell_type": "code",
      "source": [
        "f = Flatten()\n",
        "y_train = f(y_train)\n",
        "y_test = f(y_test)\n",
        "print(\"y_train =\",y_train.shape)\n",
        "print(\"y_test =\",y_test.shape)"
      ],
      "metadata": {
        "id": "uDtVGNqGWCDy",
        "colab": {
          "base_uri": "https://localhost:8080/"
        },
        "outputId": "68d16ef0-3bb4-410d-814a-6fbfb77639cd"
      },
      "execution_count": null,
      "outputs": [
        {
          "output_type": "stream",
          "name": "stdout",
          "text": [
            "y_train = (1638, 139264)\n",
            "y_test = (410, 139264)\n"
          ]
        }
      ]
    },
    {
      "cell_type": "markdown",
      "source": [
        "## Model"
      ],
      "metadata": {
        "id": "bYyFeaMmZf69"
      }
    },
    {
      "cell_type": "code",
      "source": [
        "from tensorflow.keras.models import Sequential\n",
        "from tensorflow.keras.layers import Dense, Dropout, Activation, Flatten, Conv2D, MaxPooling2D, AveragePooling2D\n",
        "\n",
        "model = Sequential()\n",
        "\n",
        "# 1st Convolution Layer:\n",
        "# (2048, 64, 64, 34) \n",
        "model.add(Conv2D(64, (3,3), input_shape=X_train.shape[1:])) # only for first layer we metion input layer size.\n",
        "model.add(Activation('LeakyReLU')) # for including non-linearity.\n",
        "model.add(MaxPooling2D(pool_size=(2,2))) # Maxpooling\n",
        "\n",
        "# 2nd Convolution Layer:\n",
        "model.add(Conv2D(64, (3,3)))\n",
        "model.add(Activation('LeakyReLU'))\n",
        "model.add(MaxPooling2D(pool_size=(2,2)))\n",
        "\n",
        "# 3rd Convolution Layer:\n",
        "model.add(Conv2D(64, (3,3)))\n",
        "model.add(Activation('LeakyReLU'))\n",
        "model.add(MaxPooling2D(pool_size=(2,2)))\n",
        "\n",
        "# 1st Fully Connected Dense Layer:\n",
        "model.add(Flatten()) # Before connection fully connected layers we need to flatten. 2D to 1D \n",
        "model.add(Dense(1000))\n",
        "model.add(Activation('LeakyReLU'))\n",
        "\n",
        "# 2nd Fully Connected Dense Layer:\n",
        "model.add(Dense(500))\n",
        "model.add(Activation('LeakyReLU'))\n",
        "\n",
        "# 3rd Fully Connected Dense Layer:\n",
        "model.add(Dense(500))\n",
        "model.add(Activation('LeakyReLU'))\n",
        "\n",
        "# 4th Fully Connected Dense Layer:\n",
        "model.add(Dense(250))\n",
        "model.add(Activation('LeakyReLU'))\n",
        "\n",
        "# 5th Fully Connected Dense Layer:\n",
        "model.add(Dense(250))\n",
        "model.add(Activation('LeakyReLU'))\n",
        "\n",
        "# 6th Fully Connected Dense Layer:\n",
        "model.add(Dense(139264)) # This is the last layer, output must be equal to the number of classes which is 32 \n",
        "model.add(Activation('linear'))"
      ],
      "metadata": {
        "id": "BtphDwglZl_0"
      },
      "execution_count": null,
      "outputs": []
    },
    {
      "cell_type": "code",
      "source": [
        "model.summary()"
      ],
      "metadata": {
        "colab": {
          "base_uri": "https://localhost:8080/"
        },
        "id": "rhH6ZHA9Z8f4",
        "outputId": "32b9760e-d0e9-4703-a0b5-32fb7db131bf"
      },
      "execution_count": null,
      "outputs": [
        {
          "output_type": "stream",
          "name": "stdout",
          "text": [
            "Model: \"sequential_2\"\n",
            "_________________________________________________________________\n",
            " Layer (type)                Output Shape              Param #   \n",
            "=================================================================\n",
            " conv2d (Conv2D)             (None, 62, 62, 64)        19648     \n",
            "                                                                 \n",
            " activation (Activation)     (None, 62, 62, 64)        0         \n",
            "                                                                 \n",
            " max_pooling2d (MaxPooling2D  (None, 31, 31, 64)       0         \n",
            " )                                                               \n",
            "                                                                 \n",
            " conv2d_1 (Conv2D)           (None, 29, 29, 64)        36928     \n",
            "                                                                 \n",
            " activation_1 (Activation)   (None, 29, 29, 64)        0         \n",
            "                                                                 \n",
            " max_pooling2d_1 (MaxPooling  (None, 14, 14, 64)       0         \n",
            " 2D)                                                             \n",
            "                                                                 \n",
            " conv2d_2 (Conv2D)           (None, 12, 12, 64)        36928     \n",
            "                                                                 \n",
            " activation_2 (Activation)   (None, 12, 12, 64)        0         \n",
            "                                                                 \n",
            " max_pooling2d_2 (MaxPooling  (None, 6, 6, 64)         0         \n",
            " 2D)                                                             \n",
            "                                                                 \n",
            " flatten_1 (Flatten)         (None, 2304)              0         \n",
            "                                                                 \n",
            " dense (Dense)               (None, 1000)              2305000   \n",
            "                                                                 \n",
            " activation_3 (Activation)   (None, 1000)              0         \n",
            "                                                                 \n",
            " dense_1 (Dense)             (None, 500)               500500    \n",
            "                                                                 \n",
            " activation_4 (Activation)   (None, 500)               0         \n",
            "                                                                 \n",
            " dense_2 (Dense)             (None, 500)               250500    \n",
            "                                                                 \n",
            " activation_5 (Activation)   (None, 500)               0         \n",
            "                                                                 \n",
            " dense_3 (Dense)             (None, 250)               125250    \n",
            "                                                                 \n",
            " activation_6 (Activation)   (None, 250)               0         \n",
            "                                                                 \n",
            " dense_4 (Dense)             (None, 250)               62750     \n",
            "                                                                 \n",
            " activation_7 (Activation)   (None, 250)               0         \n",
            "                                                                 \n",
            " dense_5 (Dense)             (None, 139264)            34955264  \n",
            "                                                                 \n",
            " activation_8 (Activation)   (None, 139264)            0         \n",
            "                                                                 \n",
            "=================================================================\n",
            "Total params: 38,292,768\n",
            "Trainable params: 38,292,768\n",
            "Non-trainable params: 0\n",
            "_________________________________________________________________\n"
          ]
        }
      ]
    },
    {
      "cell_type": "code",
      "source": [
        "model.compile(loss = 'mean_absolute_error',optimizer = 'adam')\n",
        "model.optimizer.lr = 0.001"
      ],
      "metadata": {
        "id": "lAitUtG3aCyA"
      },
      "execution_count": null,
      "outputs": []
    },
    {
      "cell_type": "code",
      "source": [
        "history = model.fit(X_train, y_train, epochs=50, validation_data=(X_test, y_test))"
      ],
      "metadata": {
        "colab": {
          "base_uri": "https://localhost:8080/"
        },
        "id": "xhswFfvkaL3b",
        "outputId": "eb1fd3ad-3ece-45e9-f913-b9fbdf6fee33"
      },
      "execution_count": null,
      "outputs": [
        {
          "output_type": "stream",
          "name": "stdout",
          "text": [
            "Epoch 1/50\n",
            "52/52 [==============================] - 55s 1s/step - loss: 0.0836 - val_loss: 0.0586\n",
            "Epoch 2/50\n",
            "52/52 [==============================] - 51s 977ms/step - loss: 0.0515 - val_loss: 0.0509\n",
            "Epoch 3/50\n",
            "52/52 [==============================] - 51s 983ms/step - loss: 0.0468 - val_loss: 0.0473\n",
            "Epoch 4/50\n",
            "52/52 [==============================] - 53s 1s/step - loss: 0.0450 - val_loss: 0.0485\n",
            "Epoch 5/50\n",
            "52/52 [==============================] - 51s 979ms/step - loss: 0.0435 - val_loss: 0.0437\n",
            "Epoch 6/50\n",
            "52/52 [==============================] - 51s 978ms/step - loss: 0.0417 - val_loss: 0.0436\n",
            "Epoch 7/50\n",
            "52/52 [==============================] - 54s 1s/step - loss: 0.0411 - val_loss: 0.0411\n",
            "Epoch 8/50\n",
            "52/52 [==============================] - 50s 970ms/step - loss: 0.0388 - val_loss: 0.0409\n",
            "Epoch 9/50\n",
            "52/52 [==============================] - 51s 973ms/step - loss: 0.0403 - val_loss: 0.0456\n",
            "Epoch 10/50\n",
            "52/52 [==============================] - 53s 1s/step - loss: 0.0383 - val_loss: 0.0402\n",
            "Epoch 11/50\n",
            "52/52 [==============================] - 53s 1s/step - loss: 0.0391 - val_loss: 0.0404\n",
            "Epoch 12/50\n",
            "52/52 [==============================] - 51s 978ms/step - loss: 0.0392 - val_loss: 0.0419\n",
            "Epoch 13/50\n",
            "52/52 [==============================] - 51s 979ms/step - loss: 0.0388 - val_loss: 0.0453\n",
            "Epoch 14/50\n",
            "52/52 [==============================] - 53s 1s/step - loss: 0.0391 - val_loss: 0.0454\n",
            "Epoch 15/50\n",
            "52/52 [==============================] - 51s 987ms/step - loss: 0.0389 - val_loss: 0.0399\n",
            "Epoch 16/50\n",
            "52/52 [==============================] - 52s 992ms/step - loss: 0.0368 - val_loss: 0.0427\n",
            "Epoch 17/50\n",
            "52/52 [==============================] - 53s 1s/step - loss: 0.0379 - val_loss: 0.0388\n",
            "Epoch 18/50\n",
            "52/52 [==============================] - 51s 981ms/step - loss: 0.0356 - val_loss: 0.0379\n",
            "Epoch 19/50\n",
            "52/52 [==============================] - 51s 979ms/step - loss: 0.0346 - val_loss: 0.0375\n",
            "Epoch 20/50\n",
            "52/52 [==============================] - 53s 1s/step - loss: 0.0347 - val_loss: 0.0400\n",
            "Epoch 21/50\n",
            "52/52 [==============================] - 51s 984ms/step - loss: 0.0352 - val_loss: 0.0415\n",
            "Epoch 22/50\n",
            "52/52 [==============================] - 51s 983ms/step - loss: 0.0364 - val_loss: 0.0377\n",
            "Epoch 23/50\n",
            "52/52 [==============================] - 53s 1s/step - loss: 0.0334 - val_loss: 0.0379\n",
            "Epoch 24/50\n",
            "52/52 [==============================] - 51s 984ms/step - loss: 0.0338 - val_loss: 0.0356\n",
            "Epoch 25/50\n",
            "52/52 [==============================] - 51s 983ms/step - loss: 0.0361 - val_loss: 0.0432\n",
            "Epoch 26/50\n",
            "52/52 [==============================] - 51s 988ms/step - loss: 0.0365 - val_loss: 0.0430\n",
            "Epoch 27/50\n",
            "52/52 [==============================] - 53s 1s/step - loss: 0.0390 - val_loss: 0.0437\n",
            "Epoch 28/50\n",
            "52/52 [==============================] - 51s 985ms/step - loss: 0.0386 - val_loss: 0.0432\n",
            "Epoch 29/50\n",
            "52/52 [==============================] - 51s 989ms/step - loss: 0.0350 - val_loss: 0.0376\n",
            "Epoch 30/50\n",
            "52/52 [==============================] - 53s 1s/step - loss: 0.0337 - val_loss: 0.0358\n",
            "Epoch 31/50\n",
            "52/52 [==============================] - 51s 984ms/step - loss: 0.0325 - val_loss: 0.0384\n",
            "Epoch 32/50\n",
            "52/52 [==============================] - 51s 990ms/step - loss: 0.0347 - val_loss: 0.0482\n",
            "Epoch 33/50\n",
            "52/52 [==============================] - 53s 1s/step - loss: 0.0383 - val_loss: 0.0389\n",
            "Epoch 34/50\n",
            "52/52 [==============================] - 51s 989ms/step - loss: 0.0333 - val_loss: 0.0426\n",
            "Epoch 35/50\n",
            "52/52 [==============================] - 51s 987ms/step - loss: 0.0341 - val_loss: 0.0378\n",
            "Epoch 36/50\n",
            "52/52 [==============================] - 51s 987ms/step - loss: 0.0332 - val_loss: 0.0366\n",
            "Epoch 37/50\n",
            "52/52 [==============================] - 53s 1s/step - loss: 0.0326 - val_loss: 0.0377\n",
            "Epoch 38/50\n",
            "52/52 [==============================] - 51s 981ms/step - loss: 0.0326 - val_loss: 0.0368\n",
            "Epoch 39/50\n",
            "52/52 [==============================] - 51s 989ms/step - loss: 0.0305 - val_loss: 0.0397\n",
            "Epoch 40/50\n",
            "52/52 [==============================] - 53s 1s/step - loss: 0.0346 - val_loss: 0.0371\n",
            "Epoch 41/50\n",
            "52/52 [==============================] - 51s 985ms/step - loss: 0.0343 - val_loss: 0.0487\n",
            "Epoch 42/50\n",
            "52/52 [==============================] - 51s 988ms/step - loss: 0.0357 - val_loss: 0.0431\n",
            "Epoch 43/50\n",
            "52/52 [==============================] - 53s 1s/step - loss: 0.0341 - val_loss: 0.0380\n",
            "Epoch 44/50\n",
            "52/52 [==============================] - 51s 986ms/step - loss: 0.0335 - val_loss: 0.0378\n",
            "Epoch 45/50\n",
            "52/52 [==============================] - 51s 984ms/step - loss: 0.0327 - val_loss: 0.0372\n",
            "Epoch 46/50\n",
            "52/52 [==============================] - 51s 985ms/step - loss: 0.0319 - val_loss: 0.0356\n",
            "Epoch 47/50\n",
            "52/52 [==============================] - 53s 1s/step - loss: 0.0318 - val_loss: 0.0352\n",
            "Epoch 48/50\n",
            "52/52 [==============================] - 51s 985ms/step - loss: 0.0320 - val_loss: 0.0378\n",
            "Epoch 49/50\n",
            "52/52 [==============================] - 51s 983ms/step - loss: 0.0304 - val_loss: 0.0355\n",
            "Epoch 50/50\n",
            "52/52 [==============================] - 53s 1s/step - loss: 0.0324 - val_loss: 0.0359\n"
          ]
        }
      ]
    },
    {
      "cell_type": "markdown",
      "source": [
        "## Plotting Loss"
      ],
      "metadata": {
        "id": "DVi9053D_7aD"
      }
    },
    {
      "cell_type": "code",
      "source": [
        "#history.history.keys()"
      ],
      "metadata": {
        "id": "zz0yuOHEAT7V"
      },
      "execution_count": null,
      "outputs": []
    },
    {
      "cell_type": "code",
      "source": [
        "plt.figure(figsize=(9,7))\n",
        "plt.plot(history.history['loss'])\n",
        "plt.plot(history.history['val_loss'])\n",
        "plt.title('Model_Loss')\n",
        "plt.ylabel('Loss')\n",
        "plt.xlabel('epochs')\n",
        "plt.legend(['train_loss','val_loss'], loc='upper right')\n",
        "plt.show()"
      ],
      "metadata": {
        "colab": {
          "base_uri": "https://localhost:8080/"
        },
        "id": "6I8UUiUS_lHm",
        "outputId": "ddab37c3-eed3-45d3-ad5b-5e8f818df22a"
      },
      "execution_count": null,
      "outputs": [
        {
          "output_type": "display_data",
          "data": {
            "text/plain": [
              "<Figure size 648x504 with 1 Axes>"
            ],
            "image/png": "[encoded data removed]"
          },
          "metadata": {
            "needs_background": "light"
          }
        }
      ]
    },
    {
      "cell_type": "markdown",
      "source": [
        "## Model1"
      ],
      "metadata": {
        "id": "nEPn61rNB9kn"
      }
    },
    {
      "cell_type": "code",
      "source": [
        "from tensorflow.keras.models import Sequential\n",
        "from tensorflow.keras.layers import Dense, Dropout, Activation, Flatten, Conv2D, MaxPooling2D, AveragePooling2D\n",
        "\n",
        "model1 = Sequential()\n",
        "\n",
        "# 1st Convolution Layer:\n",
        "# (2048, 64, 64, 34) \n",
        "model1.add(Conv2D(64, (3,3), input_shape=X_train.shape[1:])) # only for first layer we metion input layer size.\n",
        "model1.add(Activation('LeakyReLU')) # for including non-linearity.\n",
        "model1.add(MaxPooling2D(pool_size=(2,2))) # Maxpooling\n",
        "model1.add(Dropout(0.2))\n",
        "\n",
        "# 2nd Convolution Layer:\n",
        "model1.add(Conv2D(64, (3,3)))\n",
        "model1.add(Activation('LeakyReLU'))\n",
        "model1.add(MaxPooling2D(pool_size=(2,2)))\n",
        "model1.add(Dropout(0.2))\n",
        "\n",
        "# 3rd Convolution Layer:\n",
        "model1.add(Conv2D(64, (3,3)))\n",
        "model1.add(Activation('LeakyReLU'))\n",
        "model1.add(MaxPooling2D(pool_size=(2,2)))\n",
        "model1.add(Dropout(0.2))\n",
        "\n",
        "# 1st Fully Connected Dense Layer:\n",
        "model1.add(Flatten()) # Before connection fully connected layers we need to flatten. 2D to 1D \n",
        "model1.add(Dense(1000))\n",
        "model1.add(Activation('ReLU'))\n",
        "model1.add(Dropout(0.2))\n",
        "\n",
        "# 2nd Fully Connected Dense Layer:\n",
        "model1.add(Dense(500))\n",
        "model1.add(Activation('LeakyReLU'))\n",
        "model1.add(Dropout(0.2))\n",
        "\n",
        "# 3rd Fully Connected Dense Layer:\n",
        "model1.add(Dense(500))\n",
        "model1.add(Activation('LeakyReLU'))\n",
        "model1.add(Dropout(0.2))\n",
        "\n",
        "# 6th Fully Connected Dense Layer:\n",
        "model1.add(Dense(139264)) # This is the last layer, output must be equal to the number of classes which is 32 \n",
        "model1.add(Activation('linear'))"
      ],
      "metadata": {
        "id": "mqTr5sggJ6N9"
      },
      "execution_count": null,
      "outputs": []
    },
    {
      "cell_type": "code",
      "source": [
        "model1.summary()"
      ],
      "metadata": {
        "colab": {
          "base_uri": "https://localhost:8080/"
        },
        "id": "mu86FtvLKvQq",
        "outputId": "a6e09452-75ab-48d2-93fd-eccd16b689e6"
      },
      "execution_count": null,
      "outputs": [
        {
          "output_type": "stream",
          "name": "stdout",
          "text": [
            "Model: \"sequential_2\"\n",
            "_________________________________________________________________\n",
            " Layer (type)                Output Shape              Param #   \n",
            "=================================================================\n",
            " conv2d_6 (Conv2D)           (None, 62, 62, 64)        19648     \n",
            "                                                                 \n",
            " activation_16 (Activation)  (None, 62, 62, 64)        0         \n",
            "                                                                 \n",
            " max_pooling2d_6 (MaxPooling  (None, 31, 31, 64)       0         \n",
            " 2D)                                                             \n",
            "                                                                 \n",
            " dropout_3 (Dropout)         (None, 31, 31, 64)        0         \n",
            "                                                                 \n",
            " conv2d_7 (Conv2D)           (None, 29, 29, 64)        36928     \n",
            "                                                                 \n",
            " activation_17 (Activation)  (None, 29, 29, 64)        0         \n",
            "                                                                 \n",
            " max_pooling2d_7 (MaxPooling  (None, 14, 14, 64)       0         \n",
            " 2D)                                                             \n",
            "                                                                 \n",
            " dropout_4 (Dropout)         (None, 14, 14, 64)        0         \n",
            "                                                                 \n",
            " conv2d_8 (Conv2D)           (None, 12, 12, 64)        36928     \n",
            "                                                                 \n",
            " activation_18 (Activation)  (None, 12, 12, 64)        0         \n",
            "                                                                 \n",
            " max_pooling2d_8 (MaxPooling  (None, 6, 6, 64)         0         \n",
            " 2D)                                                             \n",
            "                                                                 \n",
            " dropout_5 (Dropout)         (None, 6, 6, 64)          0         \n",
            "                                                                 \n",
            " flatten_3 (Flatten)         (None, 2304)              0         \n",
            "                                                                 \n",
            " dense_10 (Dense)            (None, 1000)              2305000   \n",
            "                                                                 \n",
            " activation_19 (Activation)  (None, 1000)              0         \n",
            "                                                                 \n",
            " dropout_6 (Dropout)         (None, 1000)              0         \n",
            "                                                                 \n",
            " dense_11 (Dense)            (None, 500)               500500    \n",
            "                                                                 \n",
            " activation_20 (Activation)  (None, 500)               0         \n",
            "                                                                 \n",
            " dropout_7 (Dropout)         (None, 500)               0         \n",
            "                                                                 \n",
            " dense_12 (Dense)            (None, 500)               250500    \n",
            "                                                                 \n",
            " activation_21 (Activation)  (None, 500)               0         \n",
            "                                                                 \n",
            " dropout_8 (Dropout)         (None, 500)               0         \n",
            "                                                                 \n",
            " dense_13 (Dense)            (None, 139264)            69771264  \n",
            "                                                                 \n",
            " activation_22 (Activation)  (None, 139264)            0         \n",
            "                                                                 \n",
            "=================================================================\n",
            "Total params: 72,920,768\n",
            "Trainable params: 72,920,768\n",
            "Non-trainable params: 0\n",
            "_________________________________________________________________\n"
          ]
        }
      ]
    },
    {
      "cell_type": "code",
      "source": [
        "model1.compile(loss = 'mean_squared_error',optimizer = 'adam')\n",
        "model1.optimizer.lr = 0.001"
      ],
      "metadata": {
        "id": "OJ9-lEcOK1EH"
      },
      "execution_count": null,
      "outputs": []
    },
    {
      "cell_type": "code",
      "source": [
        "history1 = model1.fit(X_train, y_train, epochs=50, validation_data=(X_test, y_test))"
      ],
      "metadata": {
        "colab": {
          "base_uri": "https://localhost:8080/"
        },
        "id": "MX4VinbwLMp2",
        "outputId": "829aa9ec-435f-4d7d-9400-43543b3288c4"
      },
      "execution_count": null,
      "outputs": [
        {
          "output_type": "stream",
          "name": "stdout",
          "text": [
            "Epoch 1/50\n",
            "52/52 [==============================] - 82s 2s/step - loss: 0.1313 - val_loss: 0.0233\n",
            "Epoch 2/50\n",
            "52/52 [==============================] - 71s 1s/step - loss: 0.0162 - val_loss: 0.0251\n",
            "Epoch 3/50\n",
            "52/52 [==============================] - 71s 1s/step - loss: 0.0134 - val_loss: 0.0187\n",
            "Epoch 4/50\n",
            "52/52 [==============================] - 72s 1s/step - loss: 0.0131 - val_loss: 0.0177\n",
            "Epoch 5/50\n",
            "52/52 [==============================] - 72s 1s/step - loss: 0.0127 - val_loss: 0.0180\n",
            "Epoch 6/50\n",
            "52/52 [==============================] - 72s 1s/step - loss: 0.0126 - val_loss: 0.0121\n",
            "Epoch 7/50\n",
            "52/52 [==============================] - 73s 1s/step - loss: 0.0115 - val_loss: 0.0158\n",
            "Epoch 8/50\n",
            "52/52 [==============================] - 72s 1s/step - loss: 0.0109 - val_loss: 0.0107\n",
            "Epoch 9/50\n",
            "52/52 [==============================] - 72s 1s/step - loss: 0.0106 - val_loss: 0.0101\n",
            "Epoch 10/50\n",
            "52/52 [==============================] - 73s 1s/step - loss: 0.0105 - val_loss: 0.0097\n",
            "Epoch 11/50\n",
            "52/52 [==============================] - 74s 1s/step - loss: 0.0102 - val_loss: 0.0091\n",
            "Epoch 12/50\n",
            "52/52 [==============================] - 72s 1s/step - loss: 0.0102 - val_loss: 0.0129\n",
            "Epoch 13/50\n",
            "52/52 [==============================] - 73s 1s/step - loss: 0.0106 - val_loss: 0.0097\n",
            "Epoch 14/50\n",
            "52/52 [==============================] - 74s 1s/step - loss: 0.0096 - val_loss: 0.0090\n",
            "Epoch 15/50\n",
            "52/52 [==============================] - 72s 1s/step - loss: 0.0101 - val_loss: 0.0104\n",
            "Epoch 16/50\n",
            "52/52 [==============================] - 73s 1s/step - loss: 0.0101 - val_loss: 0.0096\n",
            "Epoch 17/50\n",
            "52/52 [==============================] - 75s 1s/step - loss: 0.0095 - val_loss: 0.0100\n",
            "Epoch 18/50\n",
            "52/52 [==============================] - 73s 1s/step - loss: 0.0100 - val_loss: 0.0088\n",
            "Epoch 19/50\n",
            "52/52 [==============================] - 73s 1s/step - loss: 0.0090 - val_loss: 0.0133\n",
            "Epoch 20/50\n",
            "52/52 [==============================] - 74s 1s/step - loss: 0.0092 - val_loss: 0.0112\n",
            "Epoch 21/50\n",
            "52/52 [==============================] - 73s 1s/step - loss: 0.0090 - val_loss: 0.0096\n",
            "Epoch 22/50\n",
            "52/52 [==============================] - 73s 1s/step - loss: 0.0088 - val_loss: 0.0089\n",
            "Epoch 23/50\n",
            "52/52 [==============================] - 74s 1s/step - loss: 0.0087 - val_loss: 0.0092\n",
            "Epoch 24/50\n",
            "52/52 [==============================] - 73s 1s/step - loss: 0.0087 - val_loss: 0.0126\n",
            "Epoch 25/50\n",
            "52/52 [==============================] - 73s 1s/step - loss: 0.0095 - val_loss: 0.0095\n",
            "Epoch 26/50\n",
            "52/52 [==============================] - 74s 1s/step - loss: 0.0086 - val_loss: 0.0112\n",
            "Epoch 27/50\n",
            "52/52 [==============================] - 73s 1s/step - loss: 0.0093 - val_loss: 0.0088\n",
            "Epoch 28/50\n",
            "52/52 [==============================] - 73s 1s/step - loss: 0.0093 - val_loss: 0.0124\n",
            "Epoch 29/50\n",
            "52/52 [==============================] - 74s 1s/step - loss: 0.0087 - val_loss: 0.0157\n",
            "Epoch 30/50\n",
            "52/52 [==============================] - 74s 1s/step - loss: 0.0085 - val_loss: 0.0146\n",
            "Epoch 31/50\n",
            "52/52 [==============================] - 72s 1s/step - loss: 0.0079 - val_loss: 0.0145\n",
            "Epoch 32/50\n",
            "52/52 [==============================] - 74s 1s/step - loss: 0.0081 - val_loss: 0.0082\n",
            "Epoch 33/50\n",
            "52/52 [==============================] - 73s 1s/step - loss: 0.0084 - val_loss: 0.0187\n",
            "Epoch 34/50\n",
            "52/52 [==============================] - 75s 1s/step - loss: 0.0081 - val_loss: 0.0168\n",
            "Epoch 35/50\n",
            "52/52 [==============================] - 74s 1s/step - loss: 0.0085 - val_loss: 0.0105\n",
            "Epoch 36/50\n",
            "52/52 [==============================] - 75s 1s/step - loss: 0.0080 - val_loss: 0.0082\n",
            "Epoch 37/50\n",
            "52/52 [==============================] - 76s 1s/step - loss: 0.0090 - val_loss: 0.0143\n",
            "Epoch 38/50\n",
            "52/52 [==============================] - 74s 1s/step - loss: 0.0082 - val_loss: 0.0381\n",
            "Epoch 39/50\n",
            "52/52 [==============================] - 76s 1s/step - loss: 0.0078 - val_loss: 0.0079\n",
            "Epoch 40/50\n",
            "52/52 [==============================] - 76s 1s/step - loss: 0.0081 - val_loss: 0.0315\n",
            "Epoch 41/50\n",
            "52/52 [==============================] - 75s 1s/step - loss: 0.0077 - val_loss: 0.0198\n",
            "Epoch 42/50\n",
            "52/52 [==============================] - 76s 1s/step - loss: 0.0080 - val_loss: 0.0132\n",
            "Epoch 43/50\n",
            "52/52 [==============================] - 75s 1s/step - loss: 0.0077 - val_loss: 0.0146\n",
            "Epoch 44/50\n",
            "52/52 [==============================] - 74s 1s/step - loss: 0.0075 - val_loss: 0.0088\n",
            "Epoch 45/50\n",
            "52/52 [==============================] - 76s 1s/step - loss: 0.0076 - val_loss: 0.0086\n",
            "Epoch 46/50\n",
            "52/52 [==============================] - 75s 1s/step - loss: 0.0076 - val_loss: 0.0088\n",
            "Epoch 47/50\n",
            "52/52 [==============================] - 76s 1s/step - loss: 0.0082 - val_loss: 0.0083\n",
            "Epoch 48/50\n",
            "52/52 [==============================] - 75s 1s/step - loss: 0.0077 - val_loss: 0.0087\n",
            "Epoch 49/50\n",
            "52/52 [==============================] - 75s 1s/step - loss: 0.0078 - val_loss: 0.0081\n",
            "Epoch 50/50\n",
            "52/52 [==============================] - 76s 1s/step - loss: 0.0078 - val_loss: 0.0637\n"
          ]
        }
      ]
    },
    {
      "cell_type": "code",
      "source": [
        "#history1.history.keys()"
      ],
      "metadata": {
        "id": "4Cr_gdFMcONV"
      },
      "execution_count": null,
      "outputs": []
    },
    {
      "cell_type": "code",
      "source": [
        "plt.figure(figsize=(9,7))\n",
        "plt.plot(history1.history['loss'])\n",
        "plt.plot(history1.history['val_loss'])\n",
        "plt.title('Model_Loss')\n",
        "plt.ylabel('Loss')\n",
        "plt.xlabel('epochs')\n",
        "plt.legend(['train_loss','val_loss'], loc='upper right')\n",
        "plt.show()"
      ],
      "metadata": {
        "colab": {
          "base_uri": "https://localhost:8080/",
          "height": 458
        },
        "id": "3e_x_JQccAkj",
        "outputId": "a1fa0786-9ac0-4624-87a0-5650d3055011"
      },
      "execution_count": null,
      "outputs": [
        {
          "output_type": "display_data",
          "data": {
            "text/plain": [
              "<Figure size 648x504 with 1 Axes>"
            ],
            "image/png": "[encoded data removed]"
          },
          "metadata": {
            "needs_background": "light"
          }
        }
      ]
    },
    {
      "cell_type": "code",
      "source": [
        "model2 = Sequential()\n",
        "\n",
        "# 1st Convolution Layer:\n",
        "# (2048, 64, 64, 34) \n",
        "model2.add(Conv2D(64, (3,3), input_shape=X_train.shape[1:])) # only for first layer we metion input layer size.\n",
        "model2.add(Activation('LeakyReLU')) # for including non-linearity.\n",
        "model2.add(MaxPooling2D(pool_size=(2,2))) # Maxpooling\n",
        "model2.add(Dropout(0.2))\n",
        "\n",
        "# 2nd Convolution Layer:\n",
        "model2.add(Conv2D(64, (3,3)))\n",
        "model2.add(Activation('LeakyReLU'))\n",
        "model2.add(MaxPooling2D(pool_size=(2,2)))\n",
        "model2.add(Dropout(0.2))\n",
        "\n",
        "# 3rd Convolution Layer:\n",
        "model2.add(Conv2D(64, (3,3)))\n",
        "model2.add(Activation('LeakyReLU'))\n",
        "model2.add(MaxPooling2D(pool_size=(2,2)))\n",
        "model2.add(Dropout(0.2))\n",
        "\n",
        "# 1st Fully Connected Dense Layer:\n",
        "model2.add(Flatten()) # Before connection fully connected layers we need to flatten. 2D to 1D \n",
        "model2.add(Dense(1000))\n",
        "model2.add(Activation('ReLU'))\n",
        "model2.add(Dropout(0.2))\n",
        "\n",
        "# 2nd Fully Connected Dense Layer:\n",
        "model2.add(Dense(500))\n",
        "model2.add(Activation('LeakyReLU'))\n",
        "model2.add(Dropout(0.2))\n",
        "\n",
        "# 6th Fully Connected Dense Layer:\n",
        "model2.add(Dense(139264)) # This is the last layer, output must be equal to the number of classes which is 32 \n",
        "model2.add(Activation('linear'))"
      ],
      "metadata": {
        "id": "6Ej6Ayc09eKJ"
      },
      "execution_count": null,
      "outputs": []
    },
    {
      "cell_type": "code",
      "source": [
        "model2.compile(loss = 'mean_squared_error',optimizer = 'SGD', metrics=['accuracy'])\n",
        "model2.optimizer.lr = 0.001"
      ],
      "metadata": {
        "id": "eCtXuBAeAUgQ"
      },
      "execution_count": null,
      "outputs": []
    },
    {
      "cell_type": "code",
      "source": [
        "history2 = model2.fit(X_train, y_train, epochs=50, validation_data=(X_test, y_test))"
      ],
      "metadata": {
        "colab": {
          "base_uri": "https://localhost:8080/"
        },
        "id": "bqjK_sEEAkvg",
        "outputId": "5a3887be-44a4-48c1-a85e-e8acceeb3ad2"
      },
      "execution_count": null,
      "outputs": [
        {
          "output_type": "stream",
          "name": "stdout",
          "text": [
            "Epoch 1/50\n",
            "52/52 [==============================] - 91s 2s/step - loss: 0.1002 - accuracy: 0.0000e+00 - val_loss: 0.0461 - val_accuracy: 0.0000e+00\n",
            "Epoch 2/50\n",
            "52/52 [==============================] - 92s 2s/step - loss: 0.0937 - accuracy: 0.0000e+00 - val_loss: 0.0453 - val_accuracy: 0.0000e+00\n",
            "Epoch 3/50\n",
            "52/52 [==============================] - 86s 2s/step - loss: 0.0891 - accuracy: 0.0000e+00 - val_loss: 0.0446 - val_accuracy: 0.0000e+00\n",
            "Epoch 4/50\n",
            "52/52 [==============================] - 90s 2s/step - loss: 0.0857 - accuracy: 0.0000e+00 - val_loss: 0.0442 - val_accuracy: 0.0000e+00\n",
            "Epoch 5/50\n",
            "52/52 [==============================] - 84s 2s/step - loss: 0.0827 - accuracy: 0.0000e+00 - val_loss: 0.0436 - val_accuracy: 0.0000e+00\n",
            "Epoch 6/50\n",
            "52/52 [==============================] - 85s 2s/step - loss: 0.0797 - accuracy: 0.0000e+00 - val_loss: 0.0432 - val_accuracy: 0.0000e+00\n",
            "Epoch 7/50\n",
            "52/52 [==============================] - 83s 2s/step - loss: 0.0782 - accuracy: 0.0000e+00 - val_loss: 0.0428 - val_accuracy: 0.0000e+00\n",
            "Epoch 8/50\n",
            "52/52 [==============================] - 84s 2s/step - loss: 0.0756 - accuracy: 0.0000e+00 - val_loss: 0.0424 - val_accuracy: 0.0000e+00\n",
            "Epoch 9/50\n",
            "52/52 [==============================] - 86s 2s/step - loss: 0.0736 - accuracy: 0.0000e+00 - val_loss: 0.0421 - val_accuracy: 0.0000e+00\n",
            "Epoch 10/50\n",
            "52/52 [==============================] - 85s 2s/step - loss: 0.0724 - accuracy: 0.0000e+00 - val_loss: 0.0418 - val_accuracy: 0.0000e+00\n",
            "Epoch 11/50\n",
            "52/52 [==============================] - 86s 2s/step - loss: 0.0708 - accuracy: 0.0000e+00 - val_loss: 0.0415 - val_accuracy: 0.0000e+00\n",
            "Epoch 12/50\n",
            "52/52 [==============================] - 83s 2s/step - loss: 0.0694 - accuracy: 0.0000e+00 - val_loss: 0.0413 - val_accuracy: 0.0000e+00\n",
            "Epoch 13/50\n",
            "52/52 [==============================] - 82s 2s/step - loss: 0.0681 - accuracy: 0.0000e+00 - val_loss: 0.0410 - val_accuracy: 0.0000e+00\n",
            "Epoch 14/50\n",
            "52/52 [==============================] - 78s 2s/step - loss: 0.0672 - accuracy: 0.0000e+00 - val_loss: 0.0408 - val_accuracy: 0.0000e+00\n",
            "Epoch 15/50\n",
            "52/52 [==============================] - 76s 1s/step - loss: 0.0662 - accuracy: 0.0000e+00 - val_loss: 0.0406 - val_accuracy: 0.0000e+00\n",
            "Epoch 16/50\n",
            "52/52 [==============================] - 76s 1s/step - loss: 0.0654 - accuracy: 0.0000e+00 - val_loss: 0.0404 - val_accuracy: 0.0000e+00\n",
            "Epoch 17/50\n",
            "52/52 [==============================] - 78s 1s/step - loss: 0.0644 - accuracy: 0.0000e+00 - val_loss: 0.0403 - val_accuracy: 0.0000e+00\n",
            "Epoch 18/50\n",
            "52/52 [==============================] - 76s 1s/step - loss: 0.0633 - accuracy: 0.0000e+00 - val_loss: 0.0401 - val_accuracy: 0.0000e+00\n",
            "Epoch 19/50\n",
            "52/52 [==============================] - 78s 1s/step - loss: 0.0628 - accuracy: 0.0000e+00 - val_loss: 0.0399 - val_accuracy: 0.0000e+00\n",
            "Epoch 20/50\n",
            "52/52 [==============================] - 76s 1s/step - loss: 0.0622 - accuracy: 0.0000e+00 - val_loss: 0.0398 - val_accuracy: 0.0000e+00\n",
            "Epoch 21/50\n",
            "52/52 [==============================] - 76s 1s/step - loss: 0.0614 - accuracy: 0.0000e+00 - val_loss: 0.0396 - val_accuracy: 0.0000e+00\n",
            "Epoch 22/50\n",
            "52/52 [==============================] - 81s 2s/step - loss: 0.0610 - accuracy: 0.0000e+00 - val_loss: 0.0395 - val_accuracy: 0.0000e+00\n",
            "Epoch 23/50\n",
            "52/52 [==============================] - 79s 2s/step - loss: 0.0600 - accuracy: 0.0000e+00 - val_loss: 0.0393 - val_accuracy: 0.0000e+00\n",
            "Epoch 24/50\n",
            "52/52 [==============================] - 79s 2s/step - loss: 0.0595 - accuracy: 0.0000e+00 - val_loss: 0.0392 - val_accuracy: 0.0000e+00\n",
            "Epoch 25/50\n",
            "52/52 [==============================] - 77s 1s/step - loss: 0.0589 - accuracy: 0.0000e+00 - val_loss: 0.0391 - val_accuracy: 0.0000e+00\n",
            "Epoch 26/50\n",
            "52/52 [==============================] - 77s 1s/step - loss: 0.0583 - accuracy: 0.0000e+00 - val_loss: 0.0390 - val_accuracy: 0.0000e+00\n",
            "Epoch 27/50\n",
            "52/52 [==============================] - 79s 2s/step - loss: 0.0579 - accuracy: 0.0000e+00 - val_loss: 0.0389 - val_accuracy: 0.0000e+00\n",
            "Epoch 28/50\n",
            "52/52 [==============================] - 79s 2s/step - loss: 0.0573 - accuracy: 0.0000e+00 - val_loss: 0.0388 - val_accuracy: 0.0000e+00\n",
            "Epoch 29/50\n",
            "52/52 [==============================] - 80s 2s/step - loss: 0.0570 - accuracy: 0.0000e+00 - val_loss: 0.0387 - val_accuracy: 0.0000e+00\n",
            "Epoch 30/50\n",
            "52/52 [==============================] - 81s 2s/step - loss: 0.0565 - accuracy: 0.0000e+00 - val_loss: 0.0386 - val_accuracy: 0.0000e+00\n",
            "Epoch 31/50\n",
            "52/52 [==============================] - 78s 2s/step - loss: 0.0561 - accuracy: 0.0000e+00 - val_loss: 0.0385 - val_accuracy: 0.0000e+00\n",
            "Epoch 32/50\n",
            "52/52 [==============================] - 82s 2s/step - loss: 0.0556 - accuracy: 0.0000e+00 - val_loss: 0.0384 - val_accuracy: 0.0000e+00\n",
            "Epoch 33/50\n",
            "52/52 [==============================] - 77s 1s/step - loss: 0.0553 - accuracy: 0.0000e+00 - val_loss: 0.0384 - val_accuracy: 0.0000e+00\n",
            "Epoch 34/50\n",
            "52/52 [==============================] - 80s 2s/step - loss: 0.0548 - accuracy: 0.0000e+00 - val_loss: 0.0383 - val_accuracy: 0.0000e+00\n",
            "Epoch 35/50\n",
            "52/52 [==============================] - 88s 2s/step - loss: 0.0548 - accuracy: 0.0000e+00 - val_loss: 0.0382 - val_accuracy: 0.0000e+00\n",
            "Epoch 36/50\n",
            "52/52 [==============================] - 87s 2s/step - loss: 0.0542 - accuracy: 0.0000e+00 - val_loss: 0.0382 - val_accuracy: 0.0000e+00\n",
            "Epoch 37/50\n",
            "52/52 [==============================] - 91s 2s/step - loss: 0.0540 - accuracy: 0.0000e+00 - val_loss: 0.0381 - val_accuracy: 0.0000e+00\n",
            "Epoch 38/50\n",
            "52/52 [==============================] - 89s 2s/step - loss: 0.0535 - accuracy: 0.0000e+00 - val_loss: 0.0380 - val_accuracy: 0.0000e+00\n",
            "Epoch 39/50\n",
            "52/52 [==============================] - 83s 2s/step - loss: 0.0535 - accuracy: 0.0000e+00 - val_loss: 0.0380 - val_accuracy: 0.0000e+00\n",
            "Epoch 40/50\n",
            "52/52 [==============================] - 79s 2s/step - loss: 0.0532 - accuracy: 0.0000e+00 - val_loss: 0.0379 - val_accuracy: 0.0000e+00\n",
            "Epoch 41/50\n",
            "52/52 [==============================] - 81s 2s/step - loss: 0.0527 - accuracy: 0.0000e+00 - val_loss: 0.0378 - val_accuracy: 0.0000e+00\n",
            "Epoch 42/50\n",
            "52/52 [==============================] - 79s 2s/step - loss: 0.0524 - accuracy: 0.0000e+00 - val_loss: 0.0378 - val_accuracy: 0.0000e+00\n",
            "Epoch 43/50\n",
            "52/52 [==============================] - 82s 2s/step - loss: 0.0523 - accuracy: 0.0000e+00 - val_loss: 0.0377 - val_accuracy: 0.0000e+00\n",
            "Epoch 44/50\n",
            "52/52 [==============================] - 82s 2s/step - loss: 0.0519 - accuracy: 0.0000e+00 - val_loss: 0.0377 - val_accuracy: 0.0000e+00\n",
            "Epoch 45/50\n",
            "52/52 [==============================] - 81s 2s/step - loss: 0.0517 - accuracy: 0.0000e+00 - val_loss: 0.0377 - val_accuracy: 0.0000e+00\n",
            "Epoch 46/50\n",
            "52/52 [==============================] - 84s 2s/step - loss: 0.0515 - accuracy: 0.0000e+00 - val_loss: 0.0376 - val_accuracy: 0.0000e+00\n",
            "Epoch 47/50\n",
            "52/52 [==============================] - 85s 2s/step - loss: 0.0512 - accuracy: 0.0000e+00 - val_loss: 0.0375 - val_accuracy: 0.0000e+00\n",
            "Epoch 48/50\n",
            "52/52 [==============================] - 85s 2s/step - loss: 0.0509 - accuracy: 0.0000e+00 - val_loss: 0.0375 - val_accuracy: 0.0000e+00\n",
            "Epoch 49/50\n",
            "52/52 [==============================] - 78s 2s/step - loss: 0.0508 - accuracy: 0.0000e+00 - val_loss: 0.0375 - val_accuracy: 0.0000e+00\n",
            "Epoch 50/50\n",
            "52/52 [==============================] - 79s 2s/step - loss: 0.0507 - accuracy: 0.0000e+00 - val_loss: 0.0374 - val_accuracy: 0.0000e+00\n"
          ]
        }
      ]
    },
    {
      "cell_type": "code",
      "source": [
        "plt.figure(figsize=(9,7))\n",
        "plt.plot(history2.history['loss'])\n",
        "plt.plot(history2.history['val_loss'])\n",
        "plt.title('Model_Loss')\n",
        "plt.ylabel('Loss')\n",
        "plt.xlabel('epochs')\n",
        "plt.legend(['train_loss','val_loss'], loc='upper right')\n",
        "plt.show()"
      ],
      "metadata": {
        "colab": {
          "base_uri": "https://localhost:8080/",
          "height": 458
        },
        "id": "RsFKN_dIAuro",
        "outputId": "5c96144c-4ca7-4f16-b7e0-5534a109a1f6"
      },
      "execution_count": null,
      "outputs": [
        {
          "output_type": "display_data",
          "data": {
            "text/plain": [
              "<Figure size 648x504 with 1 Axes>"
            ],
            "image/png": "[encoded data removed]"
          },
          "metadata": {
            "needs_background": "light"
          }
        }
      ]
    }
  ],
  "metadata": {
    "colab": {
      "provenance": []
    },
    "kernelspec": {
      "display_name": "Python 3",
      "name": "python3"
    },
    "language_info": {
      "name": "python"
    },
    "gpuClass": "standard"
  },
  "nbformat": 4,
  "nbformat_minor": 0
}